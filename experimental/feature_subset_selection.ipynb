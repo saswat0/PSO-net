{
 "cells": [
  {
   "cell_type": "code",
   "execution_count": 1,
   "metadata": {
    "ExecuteTime": {
     "end_time": "2021-02-17T08:36:13.722687Z",
     "start_time": "2021-02-17T08:36:11.715429Z"
    },
    "colab": {
     "base_uri": "https://localhost:8080/"
    },
    "id": "dYaTwZ_zJZhc",
    "outputId": "d407bf1c-eca5-449e-94ff-62969e629c2c"
   },
   "outputs": [
    {
     "name": "stdout",
     "output_type": "stream",
     "text": [
      "Requirement already satisfied: pyswarms==0.2.0 in /usr/local/lib/python3.8/site-packages (0.2.0)\n",
      "Requirement already satisfied: mock==2.0.0 in /usr/local/lib/python3.8/site-packages (from pyswarms==0.2.0) (2.0.0)\n",
      "Requirement already satisfied: PyYAML==3.12 in /usr/local/lib/python3.8/site-packages (from pyswarms==0.2.0) (3.12)\n",
      "Requirement already satisfied: pytest==3.2.1 in /usr/local/lib/python3.8/site-packages (from pyswarms==0.2.0) (3.2.1)\n",
      "Requirement already satisfied: attrs==18.1.0 in /usr/local/lib/python3.8/site-packages (from pyswarms==0.2.0) (18.1.0)\n",
      "Requirement already satisfied: numpy>=1.13.0 in /usr/local/lib/python3.8/site-packages (from pyswarms==0.2.0) (1.19.4)\n",
      "Requirement already satisfied: matplotlib>=1.3.1 in /Users/saswatsubhajyotimallick/Library/Python/3.8/lib/python/site-packages (from pyswarms==0.2.0) (3.3.2)\n",
      "Requirement already satisfied: scipy>=0.17.0 in /Users/saswatsubhajyotimallick/Library/Python/3.8/lib/python/site-packages (from pyswarms==0.2.0) (1.5.2)\n",
      "Requirement already satisfied: future==0.16.0 in /usr/local/lib/python3.8/site-packages (from pyswarms==0.2.0) (0.16.0)\n",
      "Requirement already satisfied: pbr>=0.11 in /usr/local/lib/python3.8/site-packages (from mock==2.0.0->pyswarms==0.2.0) (5.5.1)\n",
      "Requirement already satisfied: six>=1.9 in /usr/local/lib/python3.8/site-packages (from mock==2.0.0->pyswarms==0.2.0) (1.15.0)\n",
      "Requirement already satisfied: py>=1.4.33 in /usr/local/lib/python3.8/site-packages (from pytest==3.2.1->pyswarms==0.2.0) (1.10.0)\n",
      "Requirement already satisfied: setuptools in /usr/local/lib/python3.8/site-packages (from pytest==3.2.1->pyswarms==0.2.0) (50.3.2)\n",
      "Requirement already satisfied: python-dateutil>=2.1 in /Users/saswatsubhajyotimallick/Library/Python/3.8/lib/python/site-packages (from matplotlib>=1.3.1->pyswarms==0.2.0) (2.8.1)\n",
      "Requirement already satisfied: kiwisolver>=1.0.1 in /Users/saswatsubhajyotimallick/Library/Python/3.8/lib/python/site-packages (from matplotlib>=1.3.1->pyswarms==0.2.0) (1.2.0)\n",
      "Requirement already satisfied: pyparsing!=2.0.4,!=2.1.2,!=2.1.6,>=2.0.3 in /Users/saswatsubhajyotimallick/Library/Python/3.8/lib/python/site-packages (from matplotlib>=1.3.1->pyswarms==0.2.0) (2.4.7)\n",
      "Requirement already satisfied: cycler>=0.10 in /Users/saswatsubhajyotimallick/Library/Python/3.8/lib/python/site-packages (from matplotlib>=1.3.1->pyswarms==0.2.0) (0.10.0)\n",
      "Requirement already satisfied: certifi>=2020.06.20 in /Users/saswatsubhajyotimallick/Library/Python/3.8/lib/python/site-packages (from matplotlib>=1.3.1->pyswarms==0.2.0) (2020.6.20)\n",
      "Requirement already satisfied: pillow>=6.2.0 in /Users/saswatsubhajyotimallick/Library/Python/3.8/lib/python/site-packages (from matplotlib>=1.3.1->pyswarms==0.2.0) (7.2.0)\n"
     ]
    }
   ],
   "source": [
    "! pip install pyswarms==0.2.0"
   ]
  },
  {
   "cell_type": "code",
   "execution_count": 2,
   "metadata": {
    "ExecuteTime": {
     "end_time": "2021-02-17T08:36:16.923807Z",
     "start_time": "2021-02-17T08:36:16.920874Z"
    },
    "id": "RJNcvnbxGVLW"
   },
   "outputs": [],
   "source": [
    "import sys\n",
    "sys.path.append('../')\n",
    "#code below used to deal with special characters on the file path during read_csv()\n",
    "# sys._enablelegacywindowsfsencoding() "
   ]
  },
  {
   "cell_type": "code",
   "execution_count": 3,
   "metadata": {
    "ExecuteTime": {
     "end_time": "2021-02-17T08:36:20.112446Z",
     "start_time": "2021-02-17T08:36:18.015665Z"
    },
    "id": "TLJqRl5MGVLX"
   },
   "outputs": [],
   "source": [
    "# Import modules\n",
    "import numpy as np\n",
    "import seaborn as sns\n",
    "import pandas as pd\n",
    "from sklearn.model_selection import cross_val_score\n",
    "import matplotlib.pyplot as plt #MatPlotLib usado para desenhar o gráfico criado com o NetworkX\n",
    "\n",
    "# Import PySwarms\n",
    "import pyswarms as ps\n",
    "\n",
    "# Some more magic so that the notebook will reload external python modules;\n",
    "# see http://stackoverflow.com/questions/1907993/autoreload-of-modules-in-ipython\n",
    "%load_ext autoreload\n",
    "%autoreload 2\n",
    "%matplotlib inline"
   ]
  },
  {
   "cell_type": "code",
   "execution_count": 4,
   "metadata": {
    "ExecuteTime": {
     "end_time": "2021-02-17T08:36:22.473979Z",
     "start_time": "2021-02-17T08:36:22.369916Z"
    },
    "id": "6zaGfA5vGVLX"
   },
   "outputs": [],
   "source": [
    "from sklearn.datasets import make_classification\n",
    "from sklearn.model_selection import train_test_split\n",
    "\n",
    "X, y = make_classification(n_samples=450, n_features=80, n_classes=2, \n",
    "                           n_informative=50, n_redundant=0, n_repeated=0, \n",
    "                           random_state=None, shuffle=True)\n",
    "\n",
    "X, X_test, y, y_test = train_test_split(X, y, test_size=0.20, random_state=None)\n",
    "# X, y = make_classification(n_samples=100, n_features=15, n_classes=3,\n",
    "#                           n_informative=4, n_redundant=1, n_repeated=2,\n",
    "#                           random_state=1)"
   ]
  },
  {
   "cell_type": "code",
   "execution_count": 5,
   "metadata": {
    "ExecuteTime": {
     "end_time": "2021-02-17T08:36:27.152889Z",
     "start_time": "2021-02-17T08:36:27.121904Z"
    },
    "colab": {
     "base_uri": "https://localhost:8080/"
    },
    "id": "ZBj3rsF5GVLY",
    "outputId": "d18a855b-2eb4-44ec-92a2-9ddfec308fdb",
    "scrolled": true
   },
   "outputs": [
    {
     "data": {
      "text/plain": [
       "(360, 80)"
      ]
     },
     "execution_count": 5,
     "metadata": {},
     "output_type": "execute_result"
    }
   ],
   "source": [
    "X.shape"
   ]
  },
  {
   "cell_type": "code",
   "execution_count": 6,
   "metadata": {
    "ExecuteTime": {
     "end_time": "2021-02-17T08:36:30.081209Z",
     "start_time": "2021-02-17T08:36:29.809940Z"
    },
    "id": "zdeKbhFLGVLa"
   },
   "outputs": [],
   "source": [
    "from sklearn import linear_model\n",
    "from sklearn.ensemble import RandomForestClassifier\n",
    "\n",
    "# Create an instance of the classifier\n",
    "classifier = linear_model.LogisticRegression()\n",
    "#classifier = RandomForestClassifier(n_estimators = 64,\n",
    "#                                    #max_features = 30,\n",
    "#                                    bootstrap = True,\n",
    "#                                    random_state = None)\n",
    "    \n",
    "#clf = forest\n",
    "#clf.fit(X_trainOhFeatures, y_train)\n",
    "#predictions = clf.predict(X_testOhFeatures)\n",
    "#accuracy = accuracy_score(y_test, predictions)\n",
    "\n",
    "\n",
    "# Define objective function\n",
    "def f_per_particle(m, alpha):\n",
    "    \"\"\"Computes for the objective function per particle\n",
    "\n",
    "    Inputs\n",
    "    ------\n",
    "    m : numpy.ndarray\n",
    "        Binary mask that can be obtained from BinaryPSO, will\n",
    "        be used to mask features.\n",
    "    alpha: float (default is 0.5)\n",
    "        Constant weight for trading-off classifier performance\n",
    "        and number of features\n",
    "\n",
    "    Returns\n",
    "    -------\n",
    "    numpy.ndarray\n",
    "        Computed objective function\n",
    "    \"\"\"\n",
    "    total_features = X.shape[1]\n",
    "    # Get the subset of the features from the binary mask\n",
    "    if np.count_nonzero(m) == 0: \n",
    "        #if the particle subset is only zeros, get the original set of attributes\n",
    "        X_subset = X\n",
    "    else:\n",
    "        X_subset = X[:,m==1]\n",
    "        \n",
    "    #X_train, X_test, y_train, y_test = train_test_split(X_subset, y, test_size=0.20, random_state=None)\n",
    "    # Perform classification and store performance in P\n",
    "    #classifier.fit(X_train, y_train)\n",
    "    #P = (classifier.predict(X_test) == y_test).mean()\n",
    "    \n",
    "    scores = cross_val_score(classifier, X_subset, y, cv=3)\n",
    "    #print(\"Accuracy: %0.2f (+/- %0.2f)\" % (scores.mean(), scores.std() * 2))\n",
    "    \n",
    "    P = scores.mean()\n",
    "    particleScore.append(P)\n",
    "    particleSize.append(X_subset.shape[1])\n",
    "    # Compute for the objective function\n",
    "    j = (alpha * (1.0 - P)\n",
    "        + (1.0 - alpha) * (1 - (X_subset.shape[1] / total_features)))\n",
    "    \n",
    "    #j = (alpha * (1.0 - P)) + (1 - alpha) * (1 - (total_features - X_subset.shape[1]) / total_features)\n",
    "    #print(\"Particle j: \", j)\n",
    "    return j"
   ]
  },
  {
   "cell_type": "code",
   "execution_count": 7,
   "metadata": {
    "ExecuteTime": {
     "end_time": "2021-02-17T08:36:30.719376Z",
     "start_time": "2021-02-17T08:36:30.689292Z"
    },
    "id": "G_7hEujaGVLa"
   },
   "outputs": [],
   "source": [
    "def f(x, alpha=0.9):\n",
    "    \"\"\"Higher-level method to do classification in the\n",
    "    whole swarm.\n",
    "\n",
    "    Inputs\n",
    "    ------\n",
    "    x: numpy.ndarray of shape (n_particles, dimensions)\n",
    "        The swarm that will perform the search\n",
    "\n",
    "    Returns\n",
    "    -------\n",
    "    numpy.ndarray of shape (n_particles, )\n",
    "        The computed loss for each particle\n",
    "    \"\"\"\n",
    "    n_particles = x.shape[0]\n",
    "    j = [f_per_particle(x[i], alpha) for i in range(n_particles)]\n",
    "    #print(\"f j: \", j)\n",
    "    return np.array(j)"
   ]
  },
  {
   "cell_type": "code",
   "execution_count": 8,
   "metadata": {
    "ExecuteTime": {
     "end_time": "2021-02-17T08:36:47.029539Z",
     "start_time": "2021-02-17T08:36:31.408570Z"
    },
    "colab": {
     "base_uri": "https://localhost:8080/",
     "height": 455
    },
    "id": "POCrnfyRGVLb",
    "outputId": "76c32d17-2c46-41ff-c6bb-d3d93644862f",
    "scrolled": true
   },
   "outputs": [
    {
     "name": "stdout",
     "output_type": "stream",
     "text": [
      "Started at:  2021-02-17 14:06:31.461428\n"
     ]
    },
    {
     "data": {
      "image/png": "[encoded data removed]",
      "text/plain": [
       "<Figure size 576x432 with 1 Axes>"
      ]
     },
     "metadata": {
      "needs_background": "light"
     },
     "output_type": "display_data"
    },
    {
     "name": "stdout",
     "output_type": "stream",
     "text": [
      "Finished at:  2021-02-17 14:06:47.024989\n",
      "Total time spent:  0:00:15.563561\n"
     ]
    }
   ],
   "source": [
    "from datetime import datetime as dt\n",
    "import time\n",
    "from pyswarms.utils.environments import PlotEnvironment\n",
    "\n",
    "start = dt.now()\n",
    "print(\"Started at: \", str(start))\n",
    "particleScore = list()\n",
    "particleSize = list()\n",
    "#mySubsets = list()\n",
    "\n",
    "# Initialize swarm, arbitrary\n",
    "options = {'c1': 2, 'c2': 2, 'w':0.3, 'k': 20, 'p':2}\n",
    "\n",
    "# Call instance of PSO\n",
    "dimensions = X.shape[1] # dimensions should be the number of features\n",
    "# optimizer.reset()\n",
    "#optimizer = ps.single.GlobalBestPSO(n_particles=1, dimensions=dimensions,\n",
    "#                                    options=options)\n",
    "optimizer = ps.discrete.BinaryPSO(n_particles=20, dimensions=dimensions, options=options)\n",
    "\n",
    "# Perform optimization\n",
    "# cost, pos = optimizer.optimize(f, print_step=1, iters=10, verbose=2)\n",
    "\n",
    "\n",
    "# Initialize plot environment\n",
    "plt_env = PlotEnvironment(optimizer, f, 10)\n",
    "\n",
    "# Plot the cost\n",
    "plt_env.plot_cost(figsize=(8,6));\n",
    "plt.show()\n",
    "\n",
    "\n",
    "# print(cost,pos)\n",
    "end = dt.now()\n",
    "print(\"Finished at: \", str(end))\n",
    "total = end-start\n",
    "print(\"Total time spent: \", total)"
   ]
  },
  {
   "cell_type": "code",
   "execution_count": 9,
   "metadata": {
    "ExecuteTime": {
     "end_time": "2021-02-17T08:36:47.157824Z",
     "start_time": "2021-02-17T08:36:47.115803Z"
    },
    "colab": {
     "base_uri": "https://localhost:8080/"
    },
    "id": "zsP0Io-OGVLc",
    "outputId": "d7cacce2-997b-423b-c709-b6052797c81d",
    "scrolled": true
   },
   "outputs": [
    {
     "name": "stdout",
     "output_type": "stream",
     "text": [
      "[0.3443125 0.342375  0.326     0.325875  0.32375   0.3214375 0.3165625\n",
      " 0.31625   0.31525   0.31225  ]\n",
      "[0 0 0 1 0 0 1 0 1 1 0 1 0 1 1 1 0 0 0 1 0 1 0 0 0 0 1 1 1 0 0 1 0 1 0 1 1\n",
      " 1 1 1 1 1 0 1 0 1 1 1 0 0 1 0 1 1 0 1 1 0 0 0 1 0 1 1 0 0 0 0 1 1 1 1 0 1\n",
      " 1 0 1 1 1 1]\n"
     ]
    }
   ],
   "source": [
    "print(optimizer.get_mean_pbest_history)\n",
    "print(optimizer.swarm.pbest_pos[5])\n",
    "\n",
    "#mean_pbest_history\n",
    "\n",
    "#optimizer.get_pos_history\n",
    "#optimizer.get_velocity_history\n",
    "#optimizer.pos_history #subsets of attributes [iters[particles]]\n"
   ]
  },
  {
   "cell_type": "code",
   "execution_count": 10,
   "metadata": {
    "ExecuteTime": {
     "end_time": "2021-02-17T08:39:08.121080Z",
     "start_time": "2021-02-17T08:39:07.850377Z"
    },
    "colab": {
     "base_uri": "https://localhost:8080/",
     "height": 442
    },
    "id": "ta44Bu17GVLd",
    "outputId": "1cd5c4e3-c3b1-438e-8d22-b5d9febf5df0"
   },
   "outputs": [
    {
     "data": {
      "image/png": "[encoded data removed]",
      "text/plain": [
       "<Figure size 720x504 with 1 Axes>"
      ]
     },
     "metadata": {
      "needs_background": "light"
     },
     "output_type": "display_data"
    }
   ],
   "source": [
    "iterations = list(range(1,len(optimizer.get_cost_history)+1))\n",
    "plt.figure(figsize=(10,7))\n",
    "#plt.xlabel('2^i classes')\n",
    "plt.xlabel('Iterations')\n",
    "plt.ylabel('Error Rate')\n",
    "#get_cost_history #erro médio da iteracao\n",
    "#optimizer.mean_pbest_history #erro minimo pbest\n",
    "plt.plot(iterations, optimizer.mean_pbest_history, 'r', label='pBest') \n",
    "plt.plot(iterations, optimizer.get_cost_history, 'b', label='cost') \n",
    "plt.legend()\n",
    "#plt.legend(bbox_to_anchor=(1.05, 1), loc=2, borderaxespad=0.)\n",
    "plt.grid(True)\n",
    "\n",
    "plt.show()"
   ]
  },
  {
   "cell_type": "code",
   "execution_count": 11,
   "metadata": {
    "ExecuteTime": {
     "end_time": "2021-02-17T08:39:10.953253Z",
     "start_time": "2021-02-17T08:39:10.723731Z"
    },
    "colab": {
     "base_uri": "https://localhost:8080/",
     "height": 442
    },
    "id": "L4yFVaHJGVLd",
    "outputId": "edcc343b-906a-4179-be35-a7739f7dc513"
   },
   "outputs": [
    {
     "data": {
      "image/png": "[encoded data removed]",
      "text/plain": [
       "<Figure size 720x504 with 1 Axes>"
      ]
     },
     "metadata": {
      "needs_background": "light"
     },
     "output_type": "display_data"
    }
   ],
   "source": [
    "import matplotlib.pyplot as plt #MatPlotLib usado para desenhar o gráfico criado com o NetworkX\n",
    "\n",
    "#iterations = list(range(1,len(optimizer.get_cost_history)+1))\n",
    "plt.figure(figsize=(10,7))\n",
    "#plt.xlabel('2^i classes')\n",
    "plt.xlabel('subsetSize')\n",
    "plt.ylabel('Accuracy')\n",
    "plt.plot(particleSize, particleScore, 'bo')\n",
    "#plt.legend(bbox_to_anchor=(1.05, 1), loc=2, borderaxespad=0.)\n",
    "plt.grid(True)\n",
    "\n",
    "\n",
    "#plt.savefig(\"D:/USP/2018-1/Computação Bioinspirada/Trabalhos/iterationVSerrorRate2.png\", format=\"PNG\")\n",
    "\n",
    "\n",
    "plt.show()"
   ]
  },
  {
   "cell_type": "code",
   "execution_count": 12,
   "metadata": {
    "ExecuteTime": {
     "end_time": "2021-02-17T08:39:56.869520Z",
     "start_time": "2021-02-17T08:39:55.355626Z"
    },
    "colab": {
     "base_uri": "https://localhost:8080/"
    },
    "id": "3yW36FkpGVLd",
    "outputId": "e1e8e512-0aca-43c7-a2d0-2a940e7b91d0",
    "scrolled": true
   },
   "outputs": [
    {
     "name": "stdout",
     "output_type": "stream",
     "text": [
      "Full set Accuracy: 0.78 (+/- 0.08)\n",
      "----------------------------------------------------------------------------\n",
      "Accuracy: 0.74 (+/- 0.08) [1 0 0 1 0 0 0 0 1 1 0 0 0 1 1 1 0 0 0 1 0 1 0 0 1 0 1 0 1 0 0 1 0 0 1 0 0\n",
      " 1 1 1 1 1 0 1 0 0 1 0 0 1 1 1 1 0 0 1 1 0 0 0 1 1 0 0 0 0 0 0 1 1 1 0 1 1\n",
      " 1 0 1 1 1 0]\n",
      "Accuracy: 0.73 (+/- 0.06) [1 1 1 0 1 0 1 0 1 1 1 0 1 0 0 0 1 1 0 0 0 0 0 1 0 1 1 1 0 1 1 0 0 1 0 1 1\n",
      " 1 1 0 1 0 1 1 0 1 0 1 1 1 1 1 0 0 1 1 1 0 1 1 1 0 0 1 0 1 1 0 0 0 0 1 1 0\n",
      " 0 1 0 0 0 0]\n",
      "Accuracy: 0.74 (+/- 0.07) [0 1 1 1 0 0 1 1 0 1 0 0 0 1 1 0 0 0 0 1 0 0 1 0 1 0 0 0 1 0 0 1 1 0 1 1 1\n",
      " 1 1 1 1 1 0 1 0 0 1 1 0 1 1 0 1 0 0 1 1 0 0 0 0 1 1 0 0 0 0 0 1 1 1 1 1 1\n",
      " 1 1 0 1 1 1]\n",
      "Accuracy: 0.71 (+/- 0.06) [0 0 1 1 1 0 1 1 0 0 0 1 1 0 1 1 0 1 1 0 1 0 1 0 1 1 0 0 1 1 1 1 1 0 0 1 1\n",
      " 0 0 1 1 0 1 0 1 1 1 0 1 0 0 0 0 0 1 1 0 0 1 1 0 1 1 1 1 0 0 1 0 0 0 1 1 1\n",
      " 1 1 0 0 1 1]\n",
      "Accuracy: 0.70 (+/- 0.10) [1 1 0 1 0 1 1 0 0 1 0 0 0 0 1 1 0 0 0 1 1 0 1 0 1 0 0 0 1 0 0 1 1 0 1 1 1\n",
      " 1 1 1 1 1 0 0 1 0 1 1 0 0 1 0 1 0 0 1 1 0 0 0 0 1 1 0 1 0 0 0 0 1 1 1 1 1\n",
      " 1 1 0 1 1 1]\n",
      "Accuracy: 0.73 (+/- 0.09) [0 0 0 1 0 0 1 0 1 1 0 1 0 1 1 1 0 0 0 1 0 1 0 0 0 0 1 1 1 0 0 1 0 1 0 1 1\n",
      " 1 1 1 1 1 0 1 0 1 1 1 0 0 1 0 1 1 0 1 1 0 0 0 1 0 1 1 0 0 0 0 1 1 1 1 0 1\n",
      " 1 0 1 1 1 1]\n",
      "Accuracy: 0.71 (+/- 0.06) [1 1 0 1 0 1 1 1 0 1 0 0 0 1 1 1 0 0 0 1 0 0 1 1 1 0 0 0 1 0 0 1 1 0 1 1 1\n",
      " 1 1 0 1 1 0 0 0 0 1 1 0 0 1 0 1 0 0 1 1 0 0 0 1 1 1 0 0 0 0 0 1 1 1 0 1 1\n",
      " 1 1 0 1 1 1]\n",
      "Accuracy: 0.70 (+/- 0.14) [0 0 0 1 0 1 1 1 0 1 0 0 0 0 1 1 1 1 0 0 1 0 1 0 0 0 1 0 1 1 1 0 0 1 0 1 0\n",
      " 1 0 1 1 0 1 1 0 0 1 1 1 1 1 1 1 1 0 1 1 1 0 1 0 1 0 0 0 0 0 0 0 0 0 1 1 1\n",
      " 0 0 0 0 0 1]\n",
      "Accuracy: 0.74 (+/- 0.06) [1 1 1 0 1 1 1 0 0 0 0 1 1 1 0 0 1 1 0 1 1 0 1 0 0 1 1 1 1 0 1 0 0 1 1 1 1\n",
      " 0 0 1 1 1 1 1 1 1 1 0 1 1 0 0 0 0 1 1 0 1 0 1 0 0 1 1 0 0 0 1 1 1 0 1 1 1\n",
      " 0 0 1 0 0 1]\n",
      "Accuracy: 0.70 (+/- 0.10) [0 1 0 1 1 1 1 0 1 1 1 0 0 1 1 1 0 0 0 0 0 1 1 0 1 1 1 0 0 0 0 1 1 0 1 0 1\n",
      " 0 0 0 0 0 1 1 1 0 1 1 1 1 1 0 0 0 1 1 1 0 1 0 0 1 0 0 1 1 0 1 0 0 0 1 0 1\n",
      " 0 0 0 0 1 0]\n",
      "Accuracy: 0.73 (+/- 0.05) [1 1 1 0 1 1 1 0 1 0 0 1 0 1 0 1 1 1 0 1 1 0 1 0 0 1 1 1 1 0 1 0 0 1 1 1 1\n",
      " 0 0 1 1 1 1 1 1 1 1 0 1 0 0 0 0 0 1 1 0 1 0 1 0 0 1 1 0 0 1 1 0 1 0 1 1 1\n",
      " 0 0 1 0 0 1]\n",
      "Accuracy: 0.69 (+/- 0.08) [1 0 1 0 1 0 0 1 1 1 0 0 1 1 0 1 1 1 1 0 0 0 0 1 1 1 1 0 1 1 0 1 1 1 0 0 0\n",
      " 1 1 0 0 0 1 1 1 0 0 0 0 1 1 1 0 0 0 0 0 1 0 0 0 0 1 1 0 1 0 1 1 0 1 0 0 1\n",
      " 0 1 1 0 1 1]\n",
      "Accuracy: 0.68 (+/- 0.08) [0 0 1 0 0 1 0 1 1 0 0 0 1 0 1 1 1 1 1 0 1 0 1 1 1 1 1 1 1 0 0 1 1 0 0 1 0\n",
      " 1 0 1 1 1 1 0 0 1 1 0 1 0 0 0 0 0 1 1 1 0 1 0 0 1 1 1 1 0 0 1 0 1 0 0 1 1\n",
      " 1 0 1 0 1 1]\n",
      "Accuracy: 0.69 (+/- 0.05) [1 0 0 1 0 1 1 1 1 1 1 1 1 1 0 1 1 0 1 0 1 0 1 1 0 1 1 0 0 1 1 0 1 0 1 1 1\n",
      " 0 1 1 1 0 1 1 1 0 0 1 0 0 0 0 1 1 0 0 1 0 0 0 1 0 0 1 0 0 0 1 1 0 1 1 0 0\n",
      " 1 0 1 0 0 0]\n",
      "Accuracy: 0.69 (+/- 0.05) [0 1 0 0 0 0 0 0 1 1 0 0 0 1 1 0 0 1 1 1 0 0 0 1 1 1 1 0 1 0 0 1 0 0 1 1 0\n",
      " 1 1 1 1 1 0 0 1 1 1 1 0 1 1 0 1 1 0 1 1 0 0 0 1 0 0 0 0 1 1 0 1 1 0 0 0 1\n",
      " 1 0 1 0 1 1]\n",
      "Accuracy: 0.72 (+/- 0.10) [0 0 1 1 1 1 1 1 0 0 0 0 1 0 1 0 1 1 1 0 1 0 1 0 1 1 0 1 1 0 0 1 1 0 0 1 1\n",
      " 0 0 1 1 0 1 0 1 1 1 0 1 0 0 0 0 0 1 1 1 0 1 1 0 1 1 1 1 1 0 0 0 1 0 1 1 1\n",
      " 1 1 0 1 0 1]\n",
      "Accuracy: 0.70 (+/- 0.13) [0 1 1 0 0 0 1 0 0 0 0 1 1 1 0 1 1 1 0 1 1 0 1 0 1 1 0 0 0 0 1 0 1 1 1 1 1\n",
      " 0 1 1 1 1 0 0 1 1 1 0 1 0 0 1 0 0 1 1 0 0 0 1 0 1 1 1 0 0 0 0 0 1 1 1 1 1\n",
      " 0 0 1 0 0 1]\n",
      "Accuracy: 0.70 (+/- 0.04) [1 1 1 1 1 1 0 0 0 1 0 1 0 0 0 1 0 0 1 0 1 0 1 1 1 1 1 1 1 1 1 1 1 1 0 1 1\n",
      " 1 0 1 1 0 1 0 0 1 0 0 0 1 1 0 0 0 0 1 0 1 0 0 0 1 1 1 1 1 0 1 1 1 1 0 1 1\n",
      " 1 0 1 1 1 1]\n",
      "Accuracy: 0.71 (+/- 0.07) [1 0 0 1 0 1 0 1 1 1 0 0 0 1 1 1 0 0 0 1 0 1 0 1 1 0 1 1 1 0 0 0 0 1 1 1 1\n",
      " 1 0 1 1 1 1 1 0 0 0 0 0 1 1 0 1 1 0 1 0 1 1 0 1 0 0 0 0 0 1 1 1 1 0 0 1 1\n",
      " 0 1 1 0 0 0]\n",
      "Accuracy: 0.69 (+/- 0.11) [0 1 0 1 0 1 1 1 1 1 1 1 1 0 0 1 1 0 0 1 0 1 0 1 1 0 1 1 1 1 1 0 0 1 1 1 1\n",
      " 0 1 1 1 0 0 0 1 1 0 0 1 0 1 1 1 1 0 1 0 1 0 0 0 0 1 0 0 1 0 1 0 0 1 1 0 0\n",
      " 1 0 1 1 1 1]\n"
     ]
    }
   ],
   "source": [
    "from sklearn.model_selection import cross_val_score\n",
    "# Create two instances of LogisticRegression\n",
    "classfier = linear_model.LogisticRegression()\n",
    "# classifier = RandomForestClassifier(n_estimators = 64,\n",
    "#                                     # max_features = 30,\n",
    "#                                     bootstrap = True,\n",
    "#                                     random_state = None)\n",
    "\n",
    "rank = list()\n",
    "\n",
    "fullSet = cross_val_score(classifier, X, y, cv=5)\n",
    "print(\"Full set Accuracy: %0.2f (+/- %0.2f)\" % (fullSet.mean(), fullSet.std() * 2))\n",
    "print(\"----------------------------------------------------------------------------\")\n",
    "bests = optimizer.swarm.pbest_pos #optimizer.get_pos_history\n",
    "for b in bests:\n",
    "    # Get the selected features from the final positions\n",
    "    X_selected_features = X[:,b==1]  # subset\n",
    "\n",
    "    # Perform classification and store performance in P\n",
    "    #classifier.fit(X_selected_features, y)\n",
    "    scores = cross_val_score(classifier, X_selected_features, y, cv=5)\n",
    "    print(\"Accuracy: %0.2f (+/- %0.2f)\" % (scores.mean(), scores.std() * 2), b)\n",
    "    rank.append([scores.mean(), b])\n",
    "    # Compute performance\n",
    "    #subset_performance = (c1.predict(X_selected_features) == y).mean()\n",
    "    #subset_performance = (classifier.predict(X_selected_features) == y).mean()\n",
    "    \n",
    "\n",
    "    #print('Subset performance: %.3f' % (subset_performance))"
   ]
  },
  {
   "cell_type": "code",
   "execution_count": 13,
   "metadata": {
    "ExecuteTime": {
     "end_time": "2021-02-17T08:40:08.228560Z",
     "start_time": "2021-02-17T08:40:08.194819Z"
    },
    "colab": {
     "base_uri": "https://localhost:8080/"
    },
    "id": "d1Hd903NGVLe",
    "outputId": "29c2d484-90c0-47e8-c0b7-0e6d84fdc2c9"
   },
   "outputs": [
    {
     "name": "stdout",
     "output_type": "stream",
     "text": [
      "Full set accuracy: 0.775\n",
      "Best subset accuracy: 0.7444\n",
      "Best subset length: 47\n",
      "-----------------------------------------------\n",
      "-----------------------------------------------\n",
      "             length  |  accuracy\n",
      "full set      80        0.775\n",
      "best subset   47        0.7444\n"
     ]
    },
    {
     "name": "stderr",
     "output_type": "stream",
     "text": [
      "<ipython-input-13-015504dc16ce>:1: VisibleDeprecationWarning: Creating an ndarray from ragged nested sequences (which is a list-or-tuple of lists-or-tuples-or ndarrays with different lengths or shapes) is deprecated. If you meant to do this, you must specify 'dtype=object' when creating the ndarray\n",
      "  rank = np.array(rank)\n"
     ]
    }
   ],
   "source": [
    "rank = np.array(rank)\n",
    "\n",
    "fullSetAccuracy = round(fullSet.mean(),4)\n",
    "bestSubsetAccuracy = round(max(rank[:,0]),4)\n",
    "\n",
    "for i in range(len(rank)):\n",
    "  if rank[i, 0] == max(rank[:,0]):\n",
    "    bestSubsetLength = sum(rank[i, 1])\n",
    "\n",
    "print(\"Full set accuracy:\", fullSetAccuracy)\n",
    "print(\"Best subset accuracy:\", bestSubsetAccuracy)\n",
    "print(\"Best subset length:\", bestSubsetLength)\n",
    "print(\"-----------------------------------------------\")\n",
    "print(\"-----------------------------------------------\")\n",
    "print(\"             length  |  accuracy\")\n",
    "print(\"full set     \", X.shape[1], \"      \", fullSetAccuracy)\n",
    "print(\"best subset  \", bestSubsetLength, \"      \", bestSubsetAccuracy)"
   ]
  }
 ],
 "metadata": {
  "colab": {
   "collapsed_sections": [],
   "name": "feature_subset_selection.ipynb",
   "provenance": [],
   "toc_visible": true
  },
  "kernelspec": {
   "display_name": "Python 3",
   "language": "python",
   "name": "python3"
  },
  "language_info": {
   "codemirror_mode": {
    "name": "ipython",
    "version": 3
   },
   "file_extension": ".py",
   "mimetype": "text/x-python",
   "name": "python",
   "nbconvert_exporter": "python",
   "pygments_lexer": "ipython3",
   "version": "3.8.6"
  },
  "varInspector": {
   "cols": {
    "lenName": 16,
    "lenType": 16,
    "lenVar": 40
   },
   "kernels_config": {
    "python": {
     "delete_cmd_postfix": "",
     "delete_cmd_prefix": "del ",
     "library": "var_list.py",
     "varRefreshCmd": "print(var_dic_list())"
    },
    "r": {
     "delete_cmd_postfix": ") ",
     "delete_cmd_prefix": "rm(",
     "library": "var_list.r",
     "varRefreshCmd": "cat(var_dic_list()) "
    }
   },
   "types_to_exclude": [
    "module",
    "function",
    "builtin_function_or_method",
    "instance",
    "_Feature"
   ],
   "window_display": false
  }
 },
 "nbformat": 4,
 "nbformat_minor": 1
}
